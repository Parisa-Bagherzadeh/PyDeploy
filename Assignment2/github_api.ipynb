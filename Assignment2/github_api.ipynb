{
 "cells": [
  {
   "cell_type": "code",
   "execution_count": null,
   "metadata": {},
   "outputs": [],
   "source": [
    "import dotenv\n",
    "import os\n",
    "\n",
    "\n",
    "dotenv = dotenv.load_dotenv()\n",
    "GITHUB_KEY = os.getenv(\"GITHUB_KEY\")"
   ]
  },
  {
   "cell_type": "code",
   "execution_count": 2,
   "metadata": {},
   "outputs": [
    {
     "name": "stdout",
     "output_type": "stream",
     "text": [
      "Parisa-Bagherzadeh has 75 followers and is following 40 users.\n"
     ]
    }
   ],
   "source": [
    "import requests\n",
    "\n",
    "def get_followers_and_followings(username):\n",
    "   \n",
    "    url = f\"https://api.github.com/users/{username}\"\n",
    "    \n",
    "\n",
    "    token = GITHUB_KEY\n",
    "    \n",
    "    headers = {\"Authorization\": f\"token {token}\"}\n",
    "    \n",
    "    try:\n",
    "        \n",
    "        response = requests.get(url, headers=headers)\n",
    "        response.raise_for_status()\n",
    "        \n",
    "        user_data = response.json()\n",
    "        \n",
    "        followers_count = user_data['followers']\n",
    "        following_count = user_data['following']\n",
    "        \n",
    "        return followers_count, following_count\n",
    "        \n",
    "    except requests.exceptions.RequestException as e:\n",
    "        print(\"Error fetching data:\", e)\n",
    "        return None, None\n",
    "\n",
    "\n",
    "username = \"Parisa-Bagherzadeh\"\n",
    "followers, following = get_followers_and_followings(username)\n",
    "if followers is not None and following is not None:\n",
    "    print(f\"{username} has {followers} followers and is following {following} users.\")\n"
   ]
  }
 ],
 "metadata": {
  "kernelspec": {
   "display_name": "Python 3",
   "language": "python",
   "name": "python3"
  },
  "language_info": {
   "codemirror_mode": {
    "name": "ipython",
    "version": 3
   },
   "file_extension": ".py",
   "mimetype": "text/x-python",
   "name": "python",
   "nbconvert_exporter": "python",
   "pygments_lexer": "ipython3",
   "version": "3.10.12"
  }
 },
 "nbformat": 4,
 "nbformat_minor": 2
}
