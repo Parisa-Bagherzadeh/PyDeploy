{
  "cells": [
    {
      "cell_type": "markdown",
      "metadata": {
        "id": "GUMvDAnnD5m0"
      },
      "source": [
        "# YOLO"
      ]
    },
    {
      "cell_type": "code",
      "execution_count": 1,
      "metadata": {
        "colab": {
          "base_uri": "https://localhost:8080/"
        },
        "id": "Z5CJuFFGbk4G",
        "outputId": "36320016-730f-4ae5-c326-7db2c983477e"
      },
      "outputs": [
        {
          "output_type": "stream",
          "name": "stdout",
          "text": [
            "Requirement already satisfied: ultralytics in /usr/local/lib/python3.10/dist-packages (8.2.88)\n",
            "Requirement already satisfied: numpy<2.0.0,>=1.23.0 in /usr/local/lib/python3.10/dist-packages (from ultralytics) (1.26.4)\n",
            "Requirement already satisfied: matplotlib>=3.3.0 in /usr/local/lib/python3.10/dist-packages (from ultralytics) (3.7.1)\n",
            "Requirement already satisfied: opencv-python>=4.6.0 in /usr/local/lib/python3.10/dist-packages (from ultralytics) (4.10.0.84)\n",
            "Requirement already satisfied: pillow>=7.1.2 in /usr/local/lib/python3.10/dist-packages (from ultralytics) (9.4.0)\n",
            "Requirement already satisfied: pyyaml>=5.3.1 in /usr/local/lib/python3.10/dist-packages (from ultralytics) (6.0.2)\n",
            "Requirement already satisfied: requests>=2.23.0 in /usr/local/lib/python3.10/dist-packages (from ultralytics) (2.32.3)\n",
            "Requirement already satisfied: scipy>=1.4.1 in /usr/local/lib/python3.10/dist-packages (from ultralytics) (1.13.1)\n",
            "Requirement already satisfied: torch>=1.8.0 in /usr/local/lib/python3.10/dist-packages (from ultralytics) (2.4.0+cu121)\n",
            "Requirement already satisfied: torchvision>=0.9.0 in /usr/local/lib/python3.10/dist-packages (from ultralytics) (0.19.0+cu121)\n",
            "Requirement already satisfied: tqdm>=4.64.0 in /usr/local/lib/python3.10/dist-packages (from ultralytics) (4.66.5)\n",
            "Requirement already satisfied: psutil in /usr/local/lib/python3.10/dist-packages (from ultralytics) (5.9.5)\n",
            "Requirement already satisfied: py-cpuinfo in /usr/local/lib/python3.10/dist-packages (from ultralytics) (9.0.0)\n",
            "Requirement already satisfied: pandas>=1.1.4 in /usr/local/lib/python3.10/dist-packages (from ultralytics) (2.1.4)\n",
            "Requirement already satisfied: seaborn>=0.11.0 in /usr/local/lib/python3.10/dist-packages (from ultralytics) (0.13.1)\n",
            "Requirement already satisfied: ultralytics-thop>=2.0.0 in /usr/local/lib/python3.10/dist-packages (from ultralytics) (2.0.6)\n",
            "Requirement already satisfied: contourpy>=1.0.1 in /usr/local/lib/python3.10/dist-packages (from matplotlib>=3.3.0->ultralytics) (1.3.0)\n",
            "Requirement already satisfied: cycler>=0.10 in /usr/local/lib/python3.10/dist-packages (from matplotlib>=3.3.0->ultralytics) (0.12.1)\n",
            "Requirement already satisfied: fonttools>=4.22.0 in /usr/local/lib/python3.10/dist-packages (from matplotlib>=3.3.0->ultralytics) (4.53.1)\n",
            "Requirement already satisfied: kiwisolver>=1.0.1 in /usr/local/lib/python3.10/dist-packages (from matplotlib>=3.3.0->ultralytics) (1.4.5)\n",
            "Requirement already satisfied: packaging>=20.0 in /usr/local/lib/python3.10/dist-packages (from matplotlib>=3.3.0->ultralytics) (24.1)\n",
            "Requirement already satisfied: pyparsing>=2.3.1 in /usr/local/lib/python3.10/dist-packages (from matplotlib>=3.3.0->ultralytics) (3.1.4)\n",
            "Requirement already satisfied: python-dateutil>=2.7 in /usr/local/lib/python3.10/dist-packages (from matplotlib>=3.3.0->ultralytics) (2.8.2)\n",
            "Requirement already satisfied: pytz>=2020.1 in /usr/local/lib/python3.10/dist-packages (from pandas>=1.1.4->ultralytics) (2024.1)\n",
            "Requirement already satisfied: tzdata>=2022.1 in /usr/local/lib/python3.10/dist-packages (from pandas>=1.1.4->ultralytics) (2024.1)\n",
            "Requirement already satisfied: charset-normalizer<4,>=2 in /usr/local/lib/python3.10/dist-packages (from requests>=2.23.0->ultralytics) (3.3.2)\n",
            "Requirement already satisfied: idna<4,>=2.5 in /usr/local/lib/python3.10/dist-packages (from requests>=2.23.0->ultralytics) (3.8)\n",
            "Requirement already satisfied: urllib3<3,>=1.21.1 in /usr/local/lib/python3.10/dist-packages (from requests>=2.23.0->ultralytics) (2.0.7)\n",
            "Requirement already satisfied: certifi>=2017.4.17 in /usr/local/lib/python3.10/dist-packages (from requests>=2.23.0->ultralytics) (2024.8.30)\n",
            "Requirement already satisfied: filelock in /usr/local/lib/python3.10/dist-packages (from torch>=1.8.0->ultralytics) (3.15.4)\n",
            "Requirement already satisfied: typing-extensions>=4.8.0 in /usr/local/lib/python3.10/dist-packages (from torch>=1.8.0->ultralytics) (4.12.2)\n",
            "Requirement already satisfied: sympy in /usr/local/lib/python3.10/dist-packages (from torch>=1.8.0->ultralytics) (1.13.2)\n",
            "Requirement already satisfied: networkx in /usr/local/lib/python3.10/dist-packages (from torch>=1.8.0->ultralytics) (3.3)\n",
            "Requirement already satisfied: jinja2 in /usr/local/lib/python3.10/dist-packages (from torch>=1.8.0->ultralytics) (3.1.4)\n",
            "Requirement already satisfied: fsspec in /usr/local/lib/python3.10/dist-packages (from torch>=1.8.0->ultralytics) (2024.6.1)\n",
            "Requirement already satisfied: six>=1.5 in /usr/local/lib/python3.10/dist-packages (from python-dateutil>=2.7->matplotlib>=3.3.0->ultralytics) (1.16.0)\n",
            "Requirement already satisfied: MarkupSafe>=2.0 in /usr/local/lib/python3.10/dist-packages (from jinja2->torch>=1.8.0->ultralytics) (2.1.5)\n",
            "Requirement already satisfied: mpmath<1.4,>=1.1.0 in /usr/local/lib/python3.10/dist-packages (from sympy->torch>=1.8.0->ultralytics) (1.3.0)\n",
            "Requirement already satisfied: onnxruntime-gpu in /usr/local/lib/python3.10/dist-packages (1.19.2)\n",
            "Requirement already satisfied: coloredlogs in /usr/local/lib/python3.10/dist-packages (from onnxruntime-gpu) (15.0.1)\n",
            "Requirement already satisfied: flatbuffers in /usr/local/lib/python3.10/dist-packages (from onnxruntime-gpu) (24.3.25)\n",
            "Requirement already satisfied: numpy>=1.21.6 in /usr/local/lib/python3.10/dist-packages (from onnxruntime-gpu) (1.26.4)\n",
            "Requirement already satisfied: packaging in /usr/local/lib/python3.10/dist-packages (from onnxruntime-gpu) (24.1)\n",
            "Requirement already satisfied: protobuf in /usr/local/lib/python3.10/dist-packages (from onnxruntime-gpu) (3.20.2)\n",
            "Requirement already satisfied: sympy in /usr/local/lib/python3.10/dist-packages (from onnxruntime-gpu) (1.13.2)\n",
            "Requirement already satisfied: humanfriendly>=9.1 in /usr/local/lib/python3.10/dist-packages (from coloredlogs->onnxruntime-gpu) (10.0)\n",
            "Requirement already satisfied: mpmath<1.4,>=1.1.0 in /usr/local/lib/python3.10/dist-packages (from sympy->onnxruntime-gpu) (1.3.0)\n"
          ]
        }
      ],
      "source": [
        "!pip install ultralytics\n",
        "!pip install onnxruntime-gpu"
      ]
    },
    {
      "cell_type": "code",
      "execution_count": 2,
      "metadata": {
        "id": "a8MzKxxGb7Qb"
      },
      "outputs": [],
      "source": [
        "from ultralytics import YOLO"
      ]
    },
    {
      "cell_type": "code",
      "execution_count": 3,
      "metadata": {
        "colab": {
          "base_uri": "https://localhost:8080/"
        },
        "id": "gbSHFrCyhnmX",
        "outputId": "0ada5e99-56bc-4c9a-900f-485321b0e992"
      },
      "outputs": [
        {
          "output_type": "stream",
          "name": "stdout",
          "text": [
            "\n",
            "image 1/1 /content/horse1.jpg: 384x640 1 horse, 1846.3ms\n",
            "Speed: 3.5ms preprocess, 1846.3ms inference, 1.8ms postprocess per image at shape (1, 3, 384, 640)\n"
          ]
        }
      ],
      "source": [
        "model = YOLO(\"yolov8l.pt\")\n",
        "results = model(\"horse1.jpg\")\n",
        "\n",
        "for result in results:\n",
        "  result.save(filename=\"result.jpg\")"
      ]
    },
    {
      "cell_type": "code",
      "execution_count": 4,
      "metadata": {
        "id": "HgsEiOHx8lLs",
        "colab": {
          "base_uri": "https://localhost:8080/",
          "height": 244
        },
        "outputId": "9e1e93a6-d425-46f0-e339-416cea2e6080"
      },
      "outputs": [
        {
          "output_type": "stream",
          "name": "stdout",
          "text": [
            "Ultralytics YOLOv8.2.88 🚀 Python-3.10.12 torch-2.4.0+cu121 CPU (Intel Xeon 2.20GHz)\n",
            "\n",
            "\u001b[34m\u001b[1mPyTorch:\u001b[0m starting from 'yolov8l.pt' with input shape (1, 3, 640, 640) BCHW and output shape(s) (1, 84, 8400) (83.7 MB)\n",
            "\n",
            "\u001b[34m\u001b[1mONNX:\u001b[0m starting export with onnx 1.16.2 opset 19...\n",
            "\u001b[34m\u001b[1mONNX:\u001b[0m export success ✅ 9.9s, saved as 'yolov8l.onnx' (166.8 MB)\n",
            "\n",
            "Export complete (18.6s)\n",
            "Results saved to \u001b[1m/content\u001b[0m\n",
            "Predict:         yolo predict task=detect model=yolov8l.onnx imgsz=640  \n",
            "Validate:        yolo val task=detect model=yolov8l.onnx imgsz=640 data=coco.yaml  \n",
            "Visualize:       https://netron.app\n"
          ]
        },
        {
          "output_type": "execute_result",
          "data": {
            "text/plain": [
              "'yolov8l.onnx'"
            ],
            "application/vnd.google.colaboratory.intrinsic+json": {
              "type": "string"
            }
          },
          "metadata": {},
          "execution_count": 4
        }
      ],
      "source": [
        "model.export(format=\"onnx\")"
      ]
    },
    {
      "cell_type": "code",
      "execution_count": 5,
      "metadata": {
        "id": "q6RsXmmg_B4z",
        "colab": {
          "base_uri": "https://localhost:8080/"
        },
        "outputId": "9a722719-b35f-410c-ae71-2785fc995409"
      },
      "outputs": [
        {
          "output_type": "stream",
          "name": "stdout",
          "text": [
            "WARNING ⚠️ Unable to automatically guess model task, assuming 'task=detect'. Explicitly define task for your model, i.e. 'task=detect', 'segment', 'classify','pose' or 'obb'.\n",
            "Loading yolov8l.onnx for ONNX Runtime inference...\n",
            "\n",
            "image 1/1 /content/horse1.jpg: 640x640 1 horse, 2857.6ms\n",
            "Speed: 3.7ms preprocess, 2857.6ms inference, 1.7ms postprocess per image at shape (1, 3, 640, 640)\n"
          ]
        }
      ],
      "source": [
        "onnx_model = YOLO(\"yolov8l.onnx\")\n",
        "result = onnx_model(\"horse1.jpg\")"
      ]
    },
    {
      "cell_type": "code",
      "source": [
        "import onnxruntime as ort\n",
        "\n",
        "sess_options = ort.SessionOptions()\n",
        "sess_options.intra_op_num_threads = 3\n",
        "sess = ort.InferenceSession('yolov8l.onnx', sess_options)\n",
        "onnx_model = YOLO(\"yolov8l.onnx\")\n",
        "result = onnx_model(\"horse1.jpg\")"
      ],
      "metadata": {
        "colab": {
          "base_uri": "https://localhost:8080/"
        },
        "id": "_KGHb_ht7_E0",
        "outputId": "ae25c713-5270-446d-b7fb-05e77d2bd7d4"
      },
      "execution_count": 7,
      "outputs": [
        {
          "output_type": "stream",
          "name": "stdout",
          "text": [
            "WARNING ⚠️ Unable to automatically guess model task, assuming 'task=detect'. Explicitly define task for your model, i.e. 'task=detect', 'segment', 'classify','pose' or 'obb'.\n",
            "Loading yolov8l.onnx for ONNX Runtime inference...\n",
            "\n",
            "image 1/1 /content/horse1.jpg: 640x640 1 horse, 2808.5ms\n",
            "Speed: 4.4ms preprocess, 2808.5ms inference, 1.7ms postprocess per image at shape (1, 3, 640, 640)\n"
          ]
        }
      ]
    },
    {
      "cell_type": "code",
      "source": [
        "import onnxruntime as ort\n",
        "\n",
        "sess_options = ort.SessionOptions()\n",
        "sess_options.intra_op_num_threads = 8\n",
        "sess = ort.InferenceSession('yolov8l.onnx', sess_options)\n",
        "onnx_model = YOLO(\"yolov8l.onnx\")\n",
        "result = onnx_model(\"horse1.jpg\")"
      ],
      "metadata": {
        "colab": {
          "base_uri": "https://localhost:8080/"
        },
        "id": "FWSOxni9FrNh",
        "outputId": "94690552-3f7b-4e61-c105-046b12dea23a"
      },
      "execution_count": 9,
      "outputs": [
        {
          "output_type": "stream",
          "name": "stdout",
          "text": [
            "WARNING ⚠️ Unable to automatically guess model task, assuming 'task=detect'. Explicitly define task for your model, i.e. 'task=detect', 'segment', 'classify','pose' or 'obb'.\n",
            "Loading yolov8l.onnx for ONNX Runtime inference...\n",
            "\n",
            "image 1/1 /content/horse1.jpg: 640x640 1 horse, 2784.2ms\n",
            "Speed: 3.7ms preprocess, 2784.2ms inference, 1.8ms postprocess per image at shape (1, 3, 640, 640)\n"
          ]
        }
      ]
    },
    {
      "cell_type": "code",
      "source": [
        "import onnxruntime as ort\n",
        "\n",
        "sess_options = ort.SessionOptions()\n",
        "sess_options.intra_op_num_threads = 4\n",
        "sess = ort.InferenceSession('yolov8l.onnx', sess_options)\n",
        "onnx_model = YOLO(\"yolov8l.onnx\")\n",
        "result = onnx_model(\"horse1.jpg\")"
      ],
      "metadata": {
        "colab": {
          "base_uri": "https://localhost:8080/"
        },
        "id": "ERDcWRWNFwZ1",
        "outputId": "af6c059d-1115-48f8-940e-d6260f705734"
      },
      "execution_count": 10,
      "outputs": [
        {
          "output_type": "stream",
          "name": "stdout",
          "text": [
            "WARNING ⚠️ Unable to automatically guess model task, assuming 'task=detect'. Explicitly define task for your model, i.e. 'task=detect', 'segment', 'classify','pose' or 'obb'.\n",
            "Loading yolov8l.onnx for ONNX Runtime inference...\n",
            "\n",
            "image 1/1 /content/horse1.jpg: 640x640 1 horse, 2804.3ms\n",
            "Speed: 28.8ms preprocess, 2804.3ms inference, 1.7ms postprocess per image at shape (1, 3, 640, 640)\n"
          ]
        }
      ]
    },
    {
      "cell_type": "markdown",
      "metadata": {
        "id": "UjY-AUa9D4E1"
      },
      "source": []
    },
    {
      "cell_type": "markdown",
      "metadata": {
        "id": "xqrqwkXfD-rc"
      },
      "source": [
        "# SKLEARN"
      ]
    },
    {
      "cell_type": "code",
      "execution_count": 11,
      "metadata": {
        "id": "I7dyOUOEM0nz",
        "colab": {
          "base_uri": "https://localhost:8080/"
        },
        "outputId": "4b7e22f6-1692-46aa-ee97-b2787d38d72d"
      },
      "outputs": [
        {
          "output_type": "stream",
          "name": "stdout",
          "text": [
            "Requirement already satisfied: skl2onnx in /usr/local/lib/python3.10/dist-packages (1.17.0)\n",
            "Requirement already satisfied: onnx>=1.2.1 in /usr/local/lib/python3.10/dist-packages (from skl2onnx) (1.16.2)\n",
            "Requirement already satisfied: scikit-learn>=1.1 in /usr/local/lib/python3.10/dist-packages (from skl2onnx) (1.3.2)\n",
            "Requirement already satisfied: onnxconverter-common>=1.7.0 in /usr/local/lib/python3.10/dist-packages (from skl2onnx) (1.14.0)\n",
            "Requirement already satisfied: numpy>=1.20 in /usr/local/lib/python3.10/dist-packages (from onnx>=1.2.1->skl2onnx) (1.26.4)\n",
            "Requirement already satisfied: protobuf>=3.20.2 in /usr/local/lib/python3.10/dist-packages (from onnx>=1.2.1->skl2onnx) (3.20.2)\n",
            "Requirement already satisfied: packaging in /usr/local/lib/python3.10/dist-packages (from onnxconverter-common>=1.7.0->skl2onnx) (24.1)\n",
            "Requirement already satisfied: scipy>=1.5.0 in /usr/local/lib/python3.10/dist-packages (from scikit-learn>=1.1->skl2onnx) (1.13.1)\n",
            "Requirement already satisfied: joblib>=1.1.1 in /usr/local/lib/python3.10/dist-packages (from scikit-learn>=1.1->skl2onnx) (1.4.2)\n",
            "Requirement already satisfied: threadpoolctl>=2.0.0 in /usr/local/lib/python3.10/dist-packages (from scikit-learn>=1.1->skl2onnx) (3.5.0)\n"
          ]
        }
      ],
      "source": [
        "!pip install skl2onnx"
      ]
    },
    {
      "cell_type": "code",
      "execution_count": 12,
      "metadata": {
        "id": "uYYvooVTEAme",
        "colab": {
          "base_uri": "https://localhost:8080/",
          "height": 75
        },
        "outputId": "ecbc88e6-5c12-4018-deb5-2faf05882b55"
      },
      "outputs": [
        {
          "output_type": "execute_result",
          "data": {
            "text/plain": [
              "MLPClassifier()"
            ],
            "text/html": [
              "<style>#sk-container-id-1 {color: black;}#sk-container-id-1 pre{padding: 0;}#sk-container-id-1 div.sk-toggleable {background-color: white;}#sk-container-id-1 label.sk-toggleable__label {cursor: pointer;display: block;width: 100%;margin-bottom: 0;padding: 0.3em;box-sizing: border-box;text-align: center;}#sk-container-id-1 label.sk-toggleable__label-arrow:before {content: \"▸\";float: left;margin-right: 0.25em;color: #696969;}#sk-container-id-1 label.sk-toggleable__label-arrow:hover:before {color: black;}#sk-container-id-1 div.sk-estimator:hover label.sk-toggleable__label-arrow:before {color: black;}#sk-container-id-1 div.sk-toggleable__content {max-height: 0;max-width: 0;overflow: hidden;text-align: left;background-color: #f0f8ff;}#sk-container-id-1 div.sk-toggleable__content pre {margin: 0.2em;color: black;border-radius: 0.25em;background-color: #f0f8ff;}#sk-container-id-1 input.sk-toggleable__control:checked~div.sk-toggleable__content {max-height: 200px;max-width: 100%;overflow: auto;}#sk-container-id-1 input.sk-toggleable__control:checked~label.sk-toggleable__label-arrow:before {content: \"▾\";}#sk-container-id-1 div.sk-estimator input.sk-toggleable__control:checked~label.sk-toggleable__label {background-color: #d4ebff;}#sk-container-id-1 div.sk-label input.sk-toggleable__control:checked~label.sk-toggleable__label {background-color: #d4ebff;}#sk-container-id-1 input.sk-hidden--visually {border: 0;clip: rect(1px 1px 1px 1px);clip: rect(1px, 1px, 1px, 1px);height: 1px;margin: -1px;overflow: hidden;padding: 0;position: absolute;width: 1px;}#sk-container-id-1 div.sk-estimator {font-family: monospace;background-color: #f0f8ff;border: 1px dotted black;border-radius: 0.25em;box-sizing: border-box;margin-bottom: 0.5em;}#sk-container-id-1 div.sk-estimator:hover {background-color: #d4ebff;}#sk-container-id-1 div.sk-parallel-item::after {content: \"\";width: 100%;border-bottom: 1px solid gray;flex-grow: 1;}#sk-container-id-1 div.sk-label:hover label.sk-toggleable__label {background-color: #d4ebff;}#sk-container-id-1 div.sk-serial::before {content: \"\";position: absolute;border-left: 1px solid gray;box-sizing: border-box;top: 0;bottom: 0;left: 50%;z-index: 0;}#sk-container-id-1 div.sk-serial {display: flex;flex-direction: column;align-items: center;background-color: white;padding-right: 0.2em;padding-left: 0.2em;position: relative;}#sk-container-id-1 div.sk-item {position: relative;z-index: 1;}#sk-container-id-1 div.sk-parallel {display: flex;align-items: stretch;justify-content: center;background-color: white;position: relative;}#sk-container-id-1 div.sk-item::before, #sk-container-id-1 div.sk-parallel-item::before {content: \"\";position: absolute;border-left: 1px solid gray;box-sizing: border-box;top: 0;bottom: 0;left: 50%;z-index: -1;}#sk-container-id-1 div.sk-parallel-item {display: flex;flex-direction: column;z-index: 1;position: relative;background-color: white;}#sk-container-id-1 div.sk-parallel-item:first-child::after {align-self: flex-end;width: 50%;}#sk-container-id-1 div.sk-parallel-item:last-child::after {align-self: flex-start;width: 50%;}#sk-container-id-1 div.sk-parallel-item:only-child::after {width: 0;}#sk-container-id-1 div.sk-dashed-wrapped {border: 1px dashed gray;margin: 0 0.4em 0.5em 0.4em;box-sizing: border-box;padding-bottom: 0.4em;background-color: white;}#sk-container-id-1 div.sk-label label {font-family: monospace;font-weight: bold;display: inline-block;line-height: 1.2em;}#sk-container-id-1 div.sk-label-container {text-align: center;}#sk-container-id-1 div.sk-container {/* jupyter's `normalize.less` sets `[hidden] { display: none; }` but bootstrap.min.css set `[hidden] { display: none !important; }` so we also need the `!important` here to be able to override the default hidden behavior on the sphinx rendered scikit-learn.org. See: https://github.com/scikit-learn/scikit-learn/issues/21755 */display: inline-block !important;position: relative;}#sk-container-id-1 div.sk-text-repr-fallback {display: none;}</style><div id=\"sk-container-id-1\" class=\"sk-top-container\"><div class=\"sk-text-repr-fallback\"><pre>MLPClassifier()</pre><b>In a Jupyter environment, please rerun this cell to show the HTML representation or trust the notebook. <br />On GitHub, the HTML representation is unable to render, please try loading this page with nbviewer.org.</b></div><div class=\"sk-container\" hidden><div class=\"sk-item\"><div class=\"sk-estimator sk-toggleable\"><input class=\"sk-toggleable__control sk-hidden--visually\" id=\"sk-estimator-id-1\" type=\"checkbox\" checked><label for=\"sk-estimator-id-1\" class=\"sk-toggleable__label sk-toggleable__label-arrow\">MLPClassifier</label><div class=\"sk-toggleable__content\"><pre>MLPClassifier()</pre></div></div></div></div></div>"
            ]
          },
          "metadata": {},
          "execution_count": 12
        }
      ],
      "source": [
        "import numpy as np\n",
        "from sklearn.datasets import load_iris\n",
        "from sklearn.model_selection import train_test_split\n",
        "# from sklearn.ensemble import RandomForestClassifier\n",
        "from sklearn.neural_network import MLPClassifier\n",
        "\n",
        "iris = load_iris()\n",
        "X, y = iris.data, iris.target\n",
        "X = X.astype(np.float32)\n",
        "X_train, X_test,y_train, y_test = train_test_split(X,y)\n",
        "\n",
        "model = MLPClassifier()\n",
        "model.fit(X_train, y_train)\n"
      ]
    },
    {
      "cell_type": "code",
      "execution_count": 13,
      "metadata": {
        "id": "hwxnIsMAO5gy",
        "colab": {
          "base_uri": "https://localhost:8080/"
        },
        "outputId": "f363feb1-9e09-4655-8b3c-e4b0ced18bf7"
      },
      "outputs": [
        {
          "output_type": "execute_result",
          "data": {
            "text/plain": [
              "array([        5.1,         3.5,         1.4,         0.2], dtype=float32)"
            ]
          },
          "metadata": {},
          "execution_count": 13
        }
      ],
      "source": [
        "X[0]"
      ]
    },
    {
      "cell_type": "code",
      "execution_count": 14,
      "metadata": {
        "id": "5jLS6QdEOiJ4"
      },
      "outputs": [],
      "source": [
        "import skl2onnx\n",
        "\n",
        "onnx_model = skl2onnx.to_onnx(model, X[0])\n",
        "with open(\"scikit_learn_onnx_model.onnx\",\"wb\")as f:\n",
        "  f.write(onnx_model.SerializeToString())\n"
      ]
    },
    {
      "cell_type": "code",
      "execution_count": 15,
      "metadata": {
        "id": "rADOJIGmQ1qQ",
        "colab": {
          "base_uri": "https://localhost:8080/"
        },
        "outputId": "faf396f3-f470-4ad7-feab-71ff6be1ca07"
      },
      "outputs": [
        {
          "output_type": "stream",
          "name": "stdout",
          "text": [
            "Requirement already satisfied: onnxruntime in /usr/local/lib/python3.10/dist-packages (1.19.2)\n",
            "Requirement already satisfied: coloredlogs in /usr/local/lib/python3.10/dist-packages (from onnxruntime) (15.0.1)\n",
            "Requirement already satisfied: flatbuffers in /usr/local/lib/python3.10/dist-packages (from onnxruntime) (24.3.25)\n",
            "Requirement already satisfied: numpy>=1.21.6 in /usr/local/lib/python3.10/dist-packages (from onnxruntime) (1.26.4)\n",
            "Requirement already satisfied: packaging in /usr/local/lib/python3.10/dist-packages (from onnxruntime) (24.1)\n",
            "Requirement already satisfied: protobuf in /usr/local/lib/python3.10/dist-packages (from onnxruntime) (3.20.2)\n",
            "Requirement already satisfied: sympy in /usr/local/lib/python3.10/dist-packages (from onnxruntime) (1.13.2)\n",
            "Requirement already satisfied: humanfriendly>=9.1 in /usr/local/lib/python3.10/dist-packages (from coloredlogs->onnxruntime) (10.0)\n",
            "Requirement already satisfied: mpmath<1.4,>=1.1.0 in /usr/local/lib/python3.10/dist-packages (from sympy->onnxruntime) (1.3.0)\n"
          ]
        }
      ],
      "source": [
        "!pip install onnxruntime"
      ]
    },
    {
      "cell_type": "code",
      "execution_count": 16,
      "metadata": {
        "id": "bhDJtltGNnUe"
      },
      "outputs": [],
      "source": [
        "import onnxruntime as ort\n",
        "\n",
        "onnx_model = ort.InferenceSession(\n",
        "            \"/content/scikit_learn_onnx_model.onnx\",\n",
        "             providers=[\"CPUExecutionProvider\", \"CUDAExecutionProvider\"])\n",
        "\n"
      ]
    },
    {
      "cell_type": "code",
      "execution_count": 17,
      "metadata": {
        "id": "kOZ2YJbKdcn_",
        "colab": {
          "base_uri": "https://localhost:8080/"
        },
        "outputId": "ce329905-6643-4239-ce4a-9c9ef32f2b81"
      },
      "outputs": [
        {
          "output_type": "execute_result",
          "data": {
            "text/plain": [
              "('X', 'output_label')"
            ]
          },
          "metadata": {},
          "execution_count": 17
        }
      ],
      "source": [
        "input_name = onnx_model.get_inputs()[0].name\n",
        "output_name = onnx_model.get_outputs()[0].name\n",
        "input_name, output_name"
      ]
    },
    {
      "cell_type": "code",
      "execution_count": 18,
      "metadata": {
        "id": "M1bJJLKhcv_v",
        "colab": {
          "base_uri": "https://localhost:8080/"
        },
        "outputId": "e3192e61-fb1e-4d99-b7b4-9d0fe161c2a5"
      },
      "outputs": [
        {
          "output_type": "execute_result",
          "data": {
            "text/plain": [
              "[array([2], dtype=int64)]"
            ]
          },
          "metadata": {},
          "execution_count": 18
        }
      ],
      "source": [
        "pred = onnx_model.run(\n",
        "    [output_name],\n",
        "    {input_name: X_test[0]}\n",
        "    )\n",
        "pred"
      ]
    },
    {
      "cell_type": "markdown",
      "metadata": {
        "id": "n-yHh4KbeiIb"
      },
      "source": [
        "# Pytorch"
      ]
    },
    {
      "cell_type": "code",
      "execution_count": 19,
      "metadata": {
        "id": "lqEXhSjiejs6",
        "colab": {
          "base_uri": "https://localhost:8080/"
        },
        "outputId": "6c364fe8-105f-460f-fc9f-7bab1e7e27de"
      },
      "outputs": [
        {
          "output_type": "stream",
          "name": "stdout",
          "text": [
            "Requirement already satisfied: onnx in /usr/local/lib/python3.10/dist-packages (1.16.2)\n",
            "Requirement already satisfied: numpy>=1.20 in /usr/local/lib/python3.10/dist-packages (from onnx) (1.26.4)\n",
            "Requirement already satisfied: protobuf>=3.20.2 in /usr/local/lib/python3.10/dist-packages (from onnx) (3.20.2)\n",
            "Collecting onnxscript\n",
            "  Downloading onnxscript-0.1.0.dev20240906-py3-none-any.whl.metadata (14 kB)\n",
            "Requirement already satisfied: numpy in /usr/local/lib/python3.10/dist-packages (from onnxscript) (1.26.4)\n",
            "Requirement already satisfied: onnx>=1.16 in /usr/local/lib/python3.10/dist-packages (from onnxscript) (1.16.2)\n",
            "Requirement already satisfied: typing-extensions in /usr/local/lib/python3.10/dist-packages (from onnxscript) (4.12.2)\n",
            "Requirement already satisfied: ml-dtypes in /usr/local/lib/python3.10/dist-packages (from onnxscript) (0.4.0)\n",
            "Requirement already satisfied: packaging in /usr/local/lib/python3.10/dist-packages (from onnxscript) (24.1)\n",
            "Requirement already satisfied: protobuf>=3.20.2 in /usr/local/lib/python3.10/dist-packages (from onnx>=1.16->onnxscript) (3.20.2)\n",
            "Downloading onnxscript-0.1.0.dev20240906-py3-none-any.whl (667 kB)\n",
            "\u001b[2K   \u001b[90m━━━━━━━━━━━━━━━━━━━━━━━━━━━━━━━━━━━━━━━━\u001b[0m \u001b[32m667.4/667.4 kB\u001b[0m \u001b[31m9.1 MB/s\u001b[0m eta \u001b[36m0:00:00\u001b[0m\n",
            "\u001b[?25hInstalling collected packages: onnxscript\n",
            "Successfully installed onnxscript-0.1.0.dev20240906\n"
          ]
        }
      ],
      "source": [
        "!pip install onnx\n",
        "!pip install onnxscript"
      ]
    },
    {
      "cell_type": "code",
      "execution_count": 20,
      "metadata": {
        "id": "FoBJKRYse0uJ"
      },
      "outputs": [],
      "source": [
        "import torch\n",
        "import torch.nn as nn\n",
        "import torch.nn.functional as F\n",
        "\n",
        "\n",
        "class MyModel(nn.Module):\n",
        "\n",
        "    def __init__(self):\n",
        "        super(MyModel, self).__init__()\n",
        "        self.conv1 = nn.Conv2d(1, 6, 5)\n",
        "        self.conv2 = nn.Conv2d(6, 16, 5)\n",
        "        self.fc1 = nn.Linear(16 * 5 * 5, 120)\n",
        "        self.fc2 = nn.Linear(120, 84)\n",
        "        self.fc3 = nn.Linear(84, 10)\n",
        "\n",
        "    def forward(self, x):\n",
        "        x = F.max_pool2d(F.relu(self.conv1(x)), (2, 2))\n",
        "        x = F.max_pool2d(F.relu(self.conv2(x)), 2)\n",
        "        x = torch.flatten(x, 1)\n",
        "        x = F.relu(self.fc1(x))\n",
        "        x = F.relu(self.fc2(x))\n",
        "        x = self.fc3(x)\n",
        "        return x"
      ]
    },
    {
      "cell_type": "code",
      "execution_count": 21,
      "metadata": {
        "id": "hQsBBu9wfI2K"
      },
      "outputs": [],
      "source": [
        "torch_model = MyModel()\n",
        "torch_input = torch.randn(1, 1, 32, 32)\n",
        "onnx_model = torch.onnx.dynamo_export(torch_model, torch_input)"
      ]
    },
    {
      "cell_type": "code",
      "execution_count": 22,
      "metadata": {
        "id": "j6gqgitpg_9x"
      },
      "outputs": [],
      "source": [
        "onnx_model.save(\"image_classification.onnx\")"
      ]
    },
    {
      "cell_type": "code",
      "execution_count": 23,
      "metadata": {
        "id": "NfRMGSCdhSUK"
      },
      "outputs": [],
      "source": [
        "import onnx\n",
        "onnx_program = onnx.load(\"image_classification.onnx\")\n",
        "onnx.checker.check_model(onnx_program)"
      ]
    },
    {
      "cell_type": "code",
      "execution_count": 24,
      "metadata": {
        "id": "_PY7pTp8g7PQ",
        "colab": {
          "base_uri": "https://localhost:8080/"
        },
        "outputId": "c9b7f094-d9e5-48e9-9571-98c2243ca874"
      },
      "outputs": [
        {
          "output_type": "execute_result",
          "data": {
            "text/plain": [
              "[array([[   -0.14049,    -0.10581,   -0.097569,   -0.034851,    -0.14039,    0.084876,   -0.093336,   -0.047788,    0.099776,    0.065922]], dtype=float32)]"
            ]
          },
          "metadata": {},
          "execution_count": 24
        }
      ],
      "source": [
        "import onnxruntime as ort\n",
        "\n",
        "onnx_session = ort.InferenceSession(\n",
        "    \"/content/image_classification.onnx\",\n",
        "    providers=[\"CPUExecutionProvider\"])\n",
        "\n",
        "input_name = onnx_session.get_inputs()[0].name\n",
        "output_name = onnx_session.get_outputs()[0].name\n",
        "\n",
        "onnx_input = torch_input.detach().cpu().numpy()\n",
        "\n",
        "input_name, output_name\n",
        "\n",
        "pred = onnx_session.run(\n",
        "    [output_name],\n",
        "    {input_name: onnx_input})\n",
        "\n",
        "\n",
        "pred"
      ]
    },
    {
      "cell_type": "code",
      "source": [
        "onnxruntime_outputs  = pred"
      ],
      "metadata": {
        "id": "yOvtd8n_NfJV"
      },
      "execution_count": 25,
      "outputs": []
    },
    {
      "cell_type": "code",
      "source": [
        "torch_outputs = torch_model(torch_input)\n",
        "torch_outputs = onnx_model.adapt_torch_outputs_to_onnx(torch_outputs)\n",
        "\n",
        "assert len(torch_outputs) == len(onnxruntime_outputs)\n",
        "for torch_output, onnxruntime_output in zip(torch_outputs, onnxruntime_outputs):\n",
        "    torch.testing.assert_close(torch_output, torch.tensor(onnxruntime_output))\n",
        "\n",
        "print(\"PyTorch and ONNX Runtime output matched!\")\n",
        "print(f\"Output length: {len(onnxruntime_outputs)}\")\n",
        "print(f\"Sample output: {onnxruntime_outputs}\")"
      ],
      "metadata": {
        "id": "vwuQcbP-JyvU",
        "colab": {
          "base_uri": "https://localhost:8080/"
        },
        "outputId": "f52181d3-b139-4574-b9b0-c991c3434106"
      },
      "execution_count": 26,
      "outputs": [
        {
          "output_type": "stream",
          "name": "stdout",
          "text": [
            "PyTorch and ONNX Runtime output matched!\n",
            "Output length: 1\n",
            "Sample output: [array([[   -0.14049,    -0.10581,   -0.097569,   -0.034851,    -0.14039,    0.084876,   -0.093336,   -0.047788,    0.099776,    0.065922]], dtype=float32)]\n"
          ]
        }
      ]
    },
    {
      "cell_type": "markdown",
      "metadata": {
        "id": "mt3Efg6vkfud"
      },
      "source": [
        "## Tensorflow"
      ]
    },
    {
      "cell_type": "code",
      "execution_count": 27,
      "metadata": {
        "id": "020B9NkclLZQ",
        "colab": {
          "base_uri": "https://localhost:8080/"
        },
        "outputId": "9c8b6740-d587-446b-8810-f36ed85ec10f"
      },
      "outputs": [
        {
          "output_type": "stream",
          "name": "stdout",
          "text": [
            "Collecting tf2onnx\n",
            "  Downloading tf2onnx-1.16.1-py3-none-any.whl.metadata (1.3 kB)\n",
            "Requirement already satisfied: numpy>=1.14.1 in /usr/local/lib/python3.10/dist-packages (from tf2onnx) (1.26.4)\n",
            "Requirement already satisfied: onnx>=1.4.1 in /usr/local/lib/python3.10/dist-packages (from tf2onnx) (1.16.2)\n",
            "Requirement already satisfied: requests in /usr/local/lib/python3.10/dist-packages (from tf2onnx) (2.32.3)\n",
            "Requirement already satisfied: six in /usr/local/lib/python3.10/dist-packages (from tf2onnx) (1.16.0)\n",
            "Requirement already satisfied: flatbuffers>=1.12 in /usr/local/lib/python3.10/dist-packages (from tf2onnx) (24.3.25)\n",
            "Requirement already satisfied: protobuf~=3.20 in /usr/local/lib/python3.10/dist-packages (from tf2onnx) (3.20.2)\n",
            "Requirement already satisfied: charset-normalizer<4,>=2 in /usr/local/lib/python3.10/dist-packages (from requests->tf2onnx) (3.3.2)\n",
            "Requirement already satisfied: idna<4,>=2.5 in /usr/local/lib/python3.10/dist-packages (from requests->tf2onnx) (3.8)\n",
            "Requirement already satisfied: urllib3<3,>=1.21.1 in /usr/local/lib/python3.10/dist-packages (from requests->tf2onnx) (2.0.7)\n",
            "Requirement already satisfied: certifi>=2017.4.17 in /usr/local/lib/python3.10/dist-packages (from requests->tf2onnx) (2024.8.30)\n",
            "Downloading tf2onnx-1.16.1-py3-none-any.whl (455 kB)\n",
            "\u001b[?25l   \u001b[90m━━━━━━━━━━━━━━━━━━━━━━━━━━━━━━━━━━━━━━━━\u001b[0m \u001b[32m0.0/455.8 kB\u001b[0m \u001b[31m?\u001b[0m eta \u001b[36m-:--:--\u001b[0m\r\u001b[2K   \u001b[91m━━━━━━━━━━\u001b[0m\u001b[91m╸\u001b[0m\u001b[90m━━━━━━━━━━━━━━━━━━━━━━━━━━━━━\u001b[0m \u001b[32m122.9/455.8 kB\u001b[0m \u001b[31m4.3 MB/s\u001b[0m eta \u001b[36m0:00:01\u001b[0m\r\u001b[2K   \u001b[90m━━━━━━━━━━━━━━━━━━━━━━━━━━━━━━━━━━━━━━━━\u001b[0m \u001b[32m455.8/455.8 kB\u001b[0m \u001b[31m7.0 MB/s\u001b[0m eta \u001b[36m0:00:00\u001b[0m\n",
            "\u001b[?25hInstalling collected packages: tf2onnx\n",
            "Successfully installed tf2onnx-1.16.1\n"
          ]
        }
      ],
      "source": [
        "!pip install tf2onnx"
      ]
    },
    {
      "cell_type": "code",
      "execution_count": 28,
      "metadata": {
        "id": "zzk3AxCsijbB",
        "colab": {
          "base_uri": "https://localhost:8080/"
        },
        "outputId": "32685101-72c9-4c15-e447-777792c7d7cb"
      },
      "outputs": [
        {
          "output_type": "stream",
          "name": "stdout",
          "text": [
            "Downloading data from https://storage.googleapis.com/tensorflow/keras-applications/resnet/resnet50_weights_tf_dim_ordering_tf_kernels.h5\n",
            "\u001b[1m102967424/102967424\u001b[0m \u001b[32m━━━━━━━━━━━━━━━━━━━━\u001b[0m\u001b[37m\u001b[0m \u001b[1m4s\u001b[0m 0us/step\n"
          ]
        }
      ],
      "source": [
        "import numpy as np\n",
        "import tensorflow as tf\n",
        "from tensorflow.keras.applications.resnet50 import ResNet50\n",
        "\n",
        "\n",
        "model = ResNet50(weights=\"imagenet\", include_top=True)"
      ]
    },
    {
      "cell_type": "code",
      "execution_count": 29,
      "metadata": {
        "id": "Xscp_bDflR56"
      },
      "outputs": [],
      "source": [
        "import tf2onnx\n",
        "\n",
        "input_data = tf.TensorSpec(model.inputs[0].shape,\n",
        "                  dtype=model.inputs[0].dtype,\n",
        "                  name=model.inputs[0].name)\n",
        "\n",
        "onnx_model, _ = tf2onnx.convert.from_keras(\n",
        "    model,\n",
        "    [input_data])"
      ]
    },
    {
      "cell_type": "code",
      "execution_count": 30,
      "metadata": {
        "id": "fBMEbW9apXdi"
      },
      "outputs": [],
      "source": [
        "onnx.save(onnx_model, \"resnet50_model.onnx\")"
      ]
    },
    {
      "cell_type": "code",
      "execution_count": 31,
      "metadata": {
        "id": "Fr6gXgmMpoTe",
        "colab": {
          "base_uri": "https://localhost:8080/"
        },
        "outputId": "a6a6d845-6d00-4808-97db-cfd11d33f4f6"
      },
      "outputs": [
        {
          "output_type": "execute_result",
          "data": {
            "text/plain": [
              "[array([[ 2.3856e-06,  1.7629e-05,  7.0427e-06,  9.9045e-05,  0.00036933,  0.00091795,  0.00021719,  3.6828e-05,   0.0001503,  2.6602e-05,  3.9028e-06,  1.9394e-06,  3.3991e-06,  5.4954e-06,  2.2527e-05,  1.4031e-05,  9.3577e-06,   0.0016598,  0.00010983,  9.7652e-06,  0.00011866,  1.9969e-05,  5.1492e-07,\n",
              "          3.2335e-05,  1.6418e-05,  1.6417e-05,  1.0442e-05,  2.4405e-06,  2.0121e-05,  0.00014455,   2.232e-05,  0.00011881,  2.7457e-05,  4.8558e-05,  0.00019146,  6.2212e-06,  0.00031169,  1.3762e-06,  1.2081e-05,  3.5831e-05,  8.1303e-05,  1.5806e-05,  0.00010785,  0.00015422,  2.3961e-05,  4.5597e-06,\n",
              "           2.082e-05,  3.1786e-06,  6.8761e-05,  0.00014127,  3.2177e-05,  0.00016783,  1.9627e-06,  1.0054e-06,  9.4069e-06,  3.7705e-06,  4.9248e-07,  6.2574e-06,  2.9554e-06,  1.1623e-05,  1.3723e-06,  5.0839e-06,  7.5869e-06,  1.2678e-06,  1.2981e-05,  1.6146e-05,  5.4423e-05,  1.8922e-05,  2.5072e-05,\n",
              "          6.7003e-05,  9.5472e-07,   2.517e-06,  0.00010532,  1.0643e-05,  3.1264e-05,  1.4216e-06,  6.9839e-06,  3.5451e-05,  5.0262e-05,  1.1972e-06,  5.7868e-06,  3.9109e-05,  1.5512e-06,   2.604e-06,  0.00029712,   0.0010125,  2.7479e-06,  3.6056e-05,  0.00021056,  0.00039868,  3.0348e-06,  1.1602e-06,\n",
              "          6.7756e-06,  8.7018e-06,  0.00017963,  1.6753e-05,   5.648e-07,  3.0024e-05,  5.8245e-07,  2.3941e-05,  2.6391e-06,  1.0274e-05,  8.8915e-05,  0.00024338,  6.8508e-05,  3.3731e-05,  8.4464e-06,  0.00044266,  1.9431e-06,  4.7088e-06,  3.7213e-06,  4.0507e-07,  0.00021934,  8.1003e-05,  6.4981e-05,\n",
              "           2.914e-05,  6.5605e-07,  7.5971e-05,  7.0147e-07,  8.5485e-05,  3.8916e-05,  2.9601e-06,  1.4942e-06,   3.343e-06,  0.00036774,  1.4183e-05,  4.4848e-05,  1.0801e-05,  1.0378e-05,    0.012264,  3.1334e-06,   0.0010315,   0.0001612,   7.159e-07,  0.00089709,  4.9098e-05,   4.863e-06,  3.9234e-05,\n",
              "          0.00079573,  1.6743e-05,  5.5009e-05,   9.872e-05,  5.8611e-05,  1.2283e-05,  3.2946e-05,  9.5816e-05,  0.00056731,  3.9662e-06,  1.3265e-06,  0.00045094,  4.7418e-05,  8.5693e-05,   1.419e-06,  8.2035e-06,  2.8353e-07,  3.0944e-06,  1.9514e-06,   2.291e-06,  4.1405e-05,  1.3274e-06,  5.5165e-05,\n",
              "          2.5987e-06,  1.2957e-05,  4.8179e-06,  0.00020638,  1.3893e-05,  0.00026802,  6.3634e-05,  3.0822e-05,   0.0062628,  7.4563e-06,   0.0061636,   0.0029368,   0.0016585,  3.0147e-06,  5.4005e-07,    0.003529,  0.00080536,   0.0019435,  6.4804e-06,  8.9751e-06,  0.00082985,  1.2683e-06,  3.3451e-05,\n",
              "          3.1949e-06,  2.4247e-07,  3.1018e-07,  3.3023e-06,  3.3679e-05,   9.858e-06,   1.401e-05,  5.0954e-06,  4.2556e-06,  1.6136e-06,   7.302e-07,  2.5067e-05,  1.6474e-05,  5.4229e-06,  6.3382e-06,  9.7334e-06,  1.0157e-06,  1.0034e-05,  1.4093e-05,  8.0229e-06,  3.9892e-06,  1.7418e-05,  2.1288e-05,\n",
              "          2.1864e-06,  1.2351e-05,  6.7713e-06,  0.00036026,    1.03e-05,  4.1662e-05,  4.1081e-05,  1.5592e-05,  1.3513e-06,  7.3393e-07,  1.5598e-06,  8.4477e-07,  1.7932e-06,   1.331e-06,  4.7082e-06,  0.00019881,   0.0001339,   0.0010389,  1.8188e-05,  9.7812e-06,  5.9947e-05,  6.0169e-06,  5.6039e-06,\n",
              "          3.0999e-05,  5.8515e-05,  4.3962e-05,  8.1763e-06,  1.5134e-06,  1.7373e-06,  0.00095768,  0.00036308,  3.1251e-06,  8.0893e-06,  1.2274e-06,  8.2124e-06,  3.9821e-05,  6.7016e-07,  6.6155e-07,  3.2125e-06,  0.00012524,  6.9911e-07,    0.000316,  2.4093e-05,  0.00069956,  0.00010639,  1.4115e-06,\n",
              "          0.00025462,  2.3638e-06,  6.9987e-07,  1.2844e-06,  3.3554e-05,  0.00018662,   1.088e-05,  7.4299e-07,  2.0499e-05,  1.1972e-06,   1.446e-06,  1.5378e-07,  0.00047562,  0.00050467,    0.005492,  0.00034801,   0.0052481,    0.031753,  0.00054053,   0.0050098,  0.00025805,  9.8692e-05,  3.9182e-05,\n",
              "          6.1356e-05,  8.4501e-05,  0.00015869,   0.0051415,  0.00029741,  4.8654e-06,  3.3519e-05,  1.7388e-06,  1.5521e-05,  2.9151e-05,  0.00014153,  2.5835e-05,  9.9313e-06,  4.0796e-05,   1.738e-05,  1.2876e-05,  3.4555e-05,  1.5538e-06,  2.2442e-05,  1.8142e-05,  9.2759e-05,  1.6275e-05,  2.3993e-06,\n",
              "          7.7554e-05,  7.1865e-07,  2.8732e-06,  3.7061e-06,  3.2985e-06,  1.5778e-06,  2.9932e-06,  3.0357e-05,  1.7998e-05,  1.4842e-05,  1.6788e-05,  3.2774e-06,  2.3144e-05,  5.2006e-06,  2.1765e-05,  5.0893e-05,  1.9446e-05,  1.7247e-05,  4.3598e-05,  2.1318e-05,  2.9051e-05,  1.2357e-05,   1.317e-05,\n",
              "           3.375e-05,  2.2595e-06,  0.00018274,  6.8366e-07,    2.07e-05,  3.2145e-05,  1.3079e-05,   6.516e-07,  1.2283e-05,  0.00044442,  1.0798e-05,  5.1028e-06,  4.8539e-06,  4.6536e-06,  1.5889e-05,  6.9776e-06,  4.6532e-07,   0.0016149,  0.00033203,  3.8278e-05,  3.2207e-05,   0.0018172,  1.5014e-05,\n",
              "           0.0024869,  7.4425e-05,  0.00018886,     0.18106,     0.60374,    0.010152,   0.0013248,  0.00063699,    0.039741,   0.0014166,    0.014115,  1.2732e-05,  2.3707e-05,  3.9213e-06,  5.6738e-06,  2.7031e-05,  5.6123e-07,  4.2302e-05,     8.7e-05,  1.7453e-06,  3.5417e-05,  5.7221e-05,  5.6389e-05,\n",
              "          7.7027e-06,  1.6954e-05,  2.6749e-05,  7.0022e-05,  5.3041e-05,   8.064e-06,  1.9062e-05,   1.891e-05,  8.1492e-06,  8.3947e-07,  1.3307e-06,  1.5172e-06,  6.8235e-06,  1.6899e-06,  1.2128e-06,  0.00019773,  1.7778e-05,   2.958e-06,  4.5516e-05,  2.0048e-06,  4.8708e-06,  9.5456e-05,  0.00020172,\n",
              "          0.00029552,  5.6421e-06,  1.3655e-05,   0.0092705,  6.2861e-05,  0.00015878,  9.3766e-05,  1.9685e-07,  4.6645e-06,   1.467e-06,  7.0894e-07,  7.2387e-07,  3.1166e-07,  1.0893e-07,  2.5106e-06,  1.2304e-06,  4.0756e-07,  1.5234e-06,  2.3355e-06,  2.6977e-06,  2.2206e-05,  3.9526e-05,  6.5348e-06,\n",
              "          1.5952e-06,  1.9685e-06,  5.9702e-07,  7.4699e-07,  2.2448e-06,  3.3815e-06,  1.7061e-06,  3.1006e-05,  2.5687e-07,   4.031e-06,  6.6875e-07,  7.4455e-06,  2.4618e-06,  8.4669e-05,  0.00027004,  3.7818e-07,  9.8691e-08,  1.6486e-05,  3.8749e-07,  3.5816e-07,  8.3143e-05,  2.1184e-05,  1.0553e-06,\n",
              "          5.3214e-07,  1.7571e-05,  5.3369e-06,  1.1543e-05,    8.54e-06,   2.284e-06,  6.7624e-06,  6.5264e-06,  1.0138e-05,  1.2514e-06,  1.1231e-06,  2.5746e-05,   7.802e-07,  3.4854e-06,  0.00043979,   3.166e-05,  1.5083e-06,  3.2349e-06,  9.6206e-07,  3.5987e-06,   2.058e-06,  5.2254e-05,  9.9241e-06,\n",
              "          1.2601e-05,  6.8758e-05,   1.193e-06,  0.00029702,  1.2799e-06,  6.4659e-07,  3.4876e-07,  8.4264e-07,  1.0693e-06,  0.00044006,  3.5308e-06,  1.3842e-05,  7.5639e-06,  7.8555e-06,  6.7198e-07,  4.8469e-06,  5.1012e-05,  3.7193e-06,   2.304e-06,  1.4024e-06,  9.4572e-07,  4.1468e-07,  5.6552e-07,\n",
              "          3.6854e-06,  1.6168e-06,  6.9945e-07,  1.1016e-06,  3.5078e-06,  1.0711e-05,  3.9346e-05,   1.707e-06,  2.6496e-06,  2.3649e-05,  6.3993e-06,  7.3761e-06,  1.8398e-06,   2.525e-06,   5.034e-06,   1.955e-07,  3.7454e-06,  3.1414e-05,   6.479e-06,  2.1182e-06,  3.8286e-05,  2.5489e-05,  0.00016456,\n",
              "          2.9662e-07,  2.6497e-06,  5.8575e-07,  2.3672e-07,   4.887e-07,  3.9077e-07,  4.5758e-06,  2.0296e-06,  3.0585e-05,   0.0001842,   1.017e-05,  2.1067e-07,  1.7046e-05,  1.8625e-06,  8.7473e-07,   2.663e-06,  1.7596e-06,  1.5969e-05,  3.1651e-05,  8.3763e-06,  8.4815e-07,  8.0927e-07,  4.7964e-07,\n",
              "          6.0401e-06,  7.1222e-07,  8.7489e-08,    9.72e-06,   2.974e-07,  6.6554e-06,  1.6042e-05,  1.5314e-07,  1.6789e-05,  1.1665e-06,  2.2493e-06,  2.5051e-07,  1.8935e-06,  4.2474e-07,  1.7919e-07,  5.3055e-05,  6.9335e-06,   1.297e-06,  7.5168e-08,  6.6601e-07,  1.1821e-06,   5.103e-06,  1.6846e-06,\n",
              "          3.7705e-06,  7.9284e-07,  3.5755e-07,  1.8907e-07,  2.9872e-06,  2.6401e-06,  2.2996e-05,  9.4638e-07,  2.5689e-06,   6.321e-07,   0.0038524,  8.1824e-07,  8.2912e-07,  6.6011e-07,  6.5421e-06,  1.4982e-06,  1.2816e-06,  6.6911e-07,  5.3408e-06,  9.9623e-06,  0.00011281,  7.6529e-08,  1.2654e-06,\n",
              "          1.6206e-06,  1.3189e-07,  4.8093e-06,   7.131e-06,  3.4966e-06,  4.9728e-07,  1.4129e-05,  1.3689e-06,  8.3338e-07,  2.9679e-07,  1.8789e-06,  1.2144e-06,  3.5598e-05,  5.5065e-06,  4.6061e-06,  1.8134e-07,  7.8388e-06,  1.7304e-06,  8.8728e-07,  1.4413e-06,     1.4e-07,  0.00051818,  1.6145e-05,\n",
              "            2.29e-06,  6.5548e-06,  5.0363e-05,    2.05e-05,  1.3212e-07,  6.8502e-05,   5.189e-06,  3.8302e-07,  6.1297e-06,  2.6376e-07,  1.2468e-05,  6.2505e-06,  9.8348e-06,  1.4434e-05,    4.55e-07,  1.4643e-06,  2.9473e-06,  1.9962e-06,  1.3796e-06,  1.0485e-05,  0.00011857,  6.7748e-06,   3.905e-07,\n",
              "          1.9519e-06,  2.0306e-06,    3.42e-06,  1.2563e-07,  4.9253e-07,  1.6176e-06,  4.7569e-07,  1.2226e-07,  3.2424e-07,  1.8914e-06,  2.8442e-06,  3.0996e-06,  1.2225e-05,  3.2145e-06,  2.9468e-07,  9.5685e-06,  2.2934e-05,  2.3527e-05,  5.2285e-06,   5.243e-07,  3.7978e-07,  2.8409e-07,  1.4367e-05,\n",
              "          1.6258e-06,  2.0486e-07,  6.9828e-07,  6.6704e-05,  8.3001e-07,  1.9992e-05,  1.4363e-06,   1.361e-06,  5.5263e-06,  0.00017086,  2.2278e-06,  8.9363e-06,  3.3281e-06,   2.543e-06,  7.1627e-07,  2.7126e-05,  2.3602e-06,  3.2977e-08,  1.1275e-06,  3.8421e-06,   3.182e-07,  3.2491e-06,  2.9091e-05,\n",
              "          7.2627e-07,  4.5832e-07,   3.712e-05,  4.7807e-06,  1.9225e-05,  7.9689e-06,  5.5041e-08,  2.1491e-05,  2.3262e-06,  6.4239e-05,  7.1009e-05,  3.0287e-06,  6.6809e-06,  1.6716e-05,  2.0493e-06,  2.7785e-06,  1.9784e-06,  3.6598e-06,  1.0518e-06,  2.5502e-06,  7.5683e-08,   1.518e-07,  2.2438e-05,\n",
              "          0.00029751,  6.2684e-06,  1.8985e-06,  2.0511e-06,  4.7057e-07,  8.8182e-06,  1.7505e-06,  1.7885e-06,  4.0657e-06,  6.7015e-06,  0.00030875,  5.4172e-07,  1.1582e-06,   1.009e-05,  3.8576e-06,  3.4582e-07,  5.7834e-06,  8.3809e-07,  0.00054475,  1.1994e-06,  4.5706e-06,  6.9606e-06,  2.2937e-06,\n",
              "          1.0646e-07,  5.5131e-07,  1.2876e-05,  9.1246e-06,  1.2299e-07,  1.2333e-06,  0.00031116,  9.5409e-07,  7.3466e-06,  3.8519e-07,   7.548e-06,  3.3071e-07,  0.00020392,  7.2711e-07,  1.3196e-07,   0.0002221,  9.6233e-07,  0.00022659,  1.8327e-05,  4.6066e-07,   1.161e-05,  1.1654e-07,  4.2227e-06,\n",
              "          1.8042e-07,  1.7453e-06,  1.2922e-05,  9.7929e-06,  5.2932e-06,  3.4327e-07,  8.4705e-07,  2.1096e-06,  1.5269e-06,   4.819e-07,  4.2257e-07,  2.3124e-06,  1.3216e-05,  7.1568e-06,  1.5605e-06,   6.035e-07,  3.0765e-07,  4.3395e-06,  5.0033e-07,  4.6042e-05,  0.00010229,  1.9955e-05,  2.2786e-05,\n",
              "          3.9362e-07,  1.6724e-06,  1.6472e-06,  6.7127e-07,  4.7619e-06,   5.026e-05,  8.5877e-06,  3.9627e-06,   1.841e-06,  2.3918e-07,  2.1285e-05,  6.9511e-06,  5.9916e-06,  6.7371e-06,  2.4188e-05,  1.4373e-05,  8.4438e-05,  3.7178e-06,  2.1345e-06,  2.2427e-06,  1.5761e-07,  3.1409e-07,  1.9751e-07,\n",
              "          1.1976e-06,  2.8314e-05,  2.4728e-06,  3.4558e-06,  8.4432e-06,  2.2953e-05,  2.9679e-06,  1.3039e-06,   7.694e-08,  3.6303e-06,  0.00013492,  5.1782e-06,  2.0174e-05,  1.0596e-05,  1.2815e-06,  1.5197e-06,  2.6127e-07,  1.9975e-05,  3.0454e-07,  5.3747e-06,  1.8546e-05,  7.4835e-06,   8.054e-05,\n",
              "          1.3638e-06,  5.2052e-07,  2.5571e-05,  4.5911e-05,  2.1924e-05,  4.5631e-07,  5.0325e-06,  7.6746e-07,  6.1391e-06,  1.9785e-06,    1.87e-05,  1.1468e-06,  1.6222e-07,  5.6936e-05,  2.6497e-07,  4.7657e-07,  7.5644e-08,  9.2021e-07,  2.1401e-06,  2.7377e-06,   1.313e-05,  1.9144e-07,   2.062e-05,\n",
              "          1.3548e-05,  4.4973e-07,  4.9767e-06,  2.1946e-06,  1.0542e-06,  3.7593e-06,  1.8643e-06,  0.00061652,  7.9982e-06,  4.5088e-06,  4.0621e-05,  2.1887e-06,  2.1552e-05,  7.4256e-06,   8.035e-06,  8.8514e-07,  1.8886e-05,  3.1899e-06,  3.4333e-05,  1.1963e-06,  9.6785e-08,  6.8873e-06,  5.2066e-06,\n",
              "          5.6987e-06,  5.1689e-05,  3.5971e-06,  5.0928e-08,  6.8043e-06,   7.003e-07,  1.0155e-05,  3.2178e-06,  1.0813e-06,  6.7744e-08,  1.9246e-05,   1.055e-06,  6.9868e-06,  8.9487e-07,  1.3585e-07,  9.0031e-07,  8.0516e-07,   3.219e-06,  1.3653e-06,  7.3008e-07,  2.1849e-07,  1.6943e-05,  9.9717e-07,\n",
              "          1.2596e-07,  1.1416e-06,  2.9711e-05,  9.4443e-06,  1.8461e-06,  6.1954e-06,  1.2914e-06,  7.5985e-07,  2.8238e-07,  4.1975e-07,   4.231e-06,  2.0103e-06,  1.3982e-06,  3.1833e-06,  5.1417e-07,  3.4715e-07,  3.8376e-07,  6.7804e-06,  2.0398e-06,  9.1961e-07,  1.1615e-07,  1.1767e-05,  7.8382e-05,\n",
              "          3.7679e-07,  2.4646e-06,  1.3924e-05,  5.4079e-07,  1.6498e-06,  1.1981e-05,  1.9001e-06,  8.5591e-06,  1.3661e-06,  3.2637e-07,  4.0771e-05,  1.4539e-07,  1.7361e-06,  6.5825e-06,  4.4994e-06,  0.00033357,    7.18e-06,   1.091e-07,  3.8178e-06,  1.4546e-06,  8.5114e-07,  7.4551e-06,  1.7347e-05,\n",
              "          1.4322e-07,  3.8501e-05,  3.7399e-07,  1.7004e-06,  3.1254e-05,  2.8263e-06,  8.3845e-07,  1.5065e-05,   1.249e-06,  1.1448e-05,  4.3069e-06,  2.9185e-06,  1.5473e-07,  3.3184e-07,   8.352e-07,  1.0837e-06,     5.5e-07,  3.9063e-06,  5.3953e-06,   1.627e-07,  6.8667e-07,  4.8842e-07,  7.6968e-07,\n",
              "          9.7375e-07,  2.5122e-06,  7.6565e-07,  2.7736e-06,  0.00013475,  1.0071e-05,  3.6331e-06,  2.8479e-05,  1.1286e-05,  2.6442e-06,  5.1546e-06,  7.6211e-06,  8.5824e-07,  2.6025e-06,  2.4842e-05,  4.0605e-06,   1.009e-06,  1.0119e-06,  7.3313e-05,   3.688e-07,  5.9027e-07,  1.2639e-06,  1.4181e-05,\n",
              "          1.9713e-06,  2.3534e-06,  2.5036e-05,  3.2182e-05,  6.9305e-05,  8.7625e-06,  2.1289e-05,  2.6139e-05,  0.00024513,  0.00020661,  3.4973e-06,  9.4421e-06,  5.4589e-05,  8.4072e-06,  4.2341e-06,  6.0919e-07,  1.0316e-05,  7.3492e-06,  2.6811e-06,  8.5931e-06,  1.0912e-06,  1.5112e-05,  8.1559e-06,\n",
              "          3.2857e-05,  1.7574e-07,  3.2516e-06,  1.6039e-05,  3.0105e-06,  1.6253e-05,  6.7076e-05,  5.2816e-06,  1.4295e-05,  5.7173e-06,  0.00016737]], dtype=float32)]"
            ]
          },
          "metadata": {},
          "execution_count": 31
        }
      ],
      "source": [
        "import numpy as np\n",
        "from PIL import Image\n",
        "import onnxruntime as ort\n",
        "from tensorflow.keras.applications.resnet50 import decode_predictions\n",
        "\n",
        "\n",
        "onnx_session = ort.InferenceSession(\n",
        "    \"resnet50_model.onnx\",\n",
        "    providers=[\"CPUExecutionProvider\"]\n",
        ")\n",
        "\n",
        "input_name = onnx_session.get_inputs()[0].name\n",
        "output_name = onnx_session.get_outputs()[0].name\n",
        "\n",
        "image = Image.open(\"horse1.jpg\")\n",
        "image = image.resize((224, 224))\n",
        "image = np.array(image).astype(np.float32)\n",
        "image = np.expand_dims(image, axis=0)\n",
        "onnx_input = image\n",
        "\n",
        "\n",
        "pred = onnx_session.run(\n",
        "    [output_name],\n",
        "    {input_name: onnx_input}\n",
        ")\n",
        "\n",
        "pred\n"
      ]
    },
    {
      "cell_type": "code",
      "source": [
        "decode_predictions(pred[0])"
      ],
      "metadata": {
        "id": "X4aY3-gB0VbZ",
        "colab": {
          "base_uri": "https://localhost:8080/"
        },
        "outputId": "35c0386e-f131-4d4a-ff79-23bafe40c7ea"
      },
      "execution_count": 32,
      "outputs": [
        {
          "output_type": "stream",
          "name": "stdout",
          "text": [
            "Downloading data from https://storage.googleapis.com/download.tensorflow.org/data/imagenet_class_index.json\n",
            "\u001b[1m35363/35363\u001b[0m \u001b[32m━━━━━━━━━━━━━━━━━━━━\u001b[0m\u001b[37m\u001b[0m \u001b[1m0s\u001b[0m 0us/step\n"
          ]
        },
        {
          "output_type": "execute_result",
          "data": {
            "text/plain": [
              "[[('n02415577', 'bighorn', 0.60373545),\n",
              "  ('n02412080', 'ram', 0.18106052),\n",
              "  ('n02423022', 'gazelle', 0.039741453),\n",
              "  ('n02114548', 'white_wolf', 0.031753436),\n",
              "  ('n02437616', 'llama', 0.014114879)]]"
            ]
          },
          "metadata": {},
          "execution_count": 32
        }
      ]
    },
    {
      "cell_type": "markdown",
      "metadata": {
        "id": "030-RWv9m2Ro"
      },
      "source": []
    }
  ],
  "metadata": {
    "colab": {
      "provenance": [],
      "gpuType": "T4"
    },
    "kernelspec": {
      "display_name": "Python 3",
      "name": "python3"
    },
    "language_info": {
      "name": "python"
    },
    "accelerator": "GPU"
  },
  "nbformat": 4,
  "nbformat_minor": 0
}